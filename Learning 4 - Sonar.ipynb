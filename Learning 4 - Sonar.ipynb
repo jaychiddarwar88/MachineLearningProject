{
 "cells": [
  {
   "cell_type": "code",
   "execution_count": 1,
   "metadata": {},
   "outputs": [],
   "source": [
    "import numpy as np\n",
    "import pandas as pd\n",
    "from keras.models import Sequential\n",
    "from keras.layers import Dense, Dropout\n"
   ]
  },
  {
   "cell_type": "code",
   "execution_count": 2,
   "metadata": {},
   "outputs": [],
   "source": [
    "df = pd.read_csv(\"sonar.csv\")\n",
    "df.columns = [x for x in range(61)]"
   ]
  },
  {
   "cell_type": "code",
   "execution_count": 3,
   "metadata": {},
   "outputs": [
    {
     "data": {
      "text/html": [
       "<div>\n",
       "<style scoped>\n",
       "    .dataframe tbody tr th:only-of-type {\n",
       "        vertical-align: middle;\n",
       "    }\n",
       "\n",
       "    .dataframe tbody tr th {\n",
       "        vertical-align: top;\n",
       "    }\n",
       "\n",
       "    .dataframe thead th {\n",
       "        text-align: right;\n",
       "    }\n",
       "</style>\n",
       "<table border=\"1\" class=\"dataframe\">\n",
       "  <thead>\n",
       "    <tr style=\"text-align: right;\">\n",
       "      <th></th>\n",
       "      <th>0</th>\n",
       "      <th>1</th>\n",
       "      <th>2</th>\n",
       "      <th>3</th>\n",
       "      <th>4</th>\n",
       "      <th>5</th>\n",
       "      <th>6</th>\n",
       "      <th>7</th>\n",
       "      <th>8</th>\n",
       "      <th>9</th>\n",
       "      <th>...</th>\n",
       "      <th>51</th>\n",
       "      <th>52</th>\n",
       "      <th>53</th>\n",
       "      <th>54</th>\n",
       "      <th>55</th>\n",
       "      <th>56</th>\n",
       "      <th>57</th>\n",
       "      <th>58</th>\n",
       "      <th>59</th>\n",
       "      <th>60</th>\n",
       "    </tr>\n",
       "  </thead>\n",
       "  <tbody>\n",
       "    <tr>\n",
       "      <th>0</th>\n",
       "      <td>0.0453</td>\n",
       "      <td>0.0523</td>\n",
       "      <td>0.0843</td>\n",
       "      <td>0.0689</td>\n",
       "      <td>0.1183</td>\n",
       "      <td>0.2583</td>\n",
       "      <td>0.2156</td>\n",
       "      <td>0.3481</td>\n",
       "      <td>0.3337</td>\n",
       "      <td>0.2872</td>\n",
       "      <td>...</td>\n",
       "      <td>0.0084</td>\n",
       "      <td>0.0089</td>\n",
       "      <td>0.0048</td>\n",
       "      <td>0.0094</td>\n",
       "      <td>0.0191</td>\n",
       "      <td>0.0140</td>\n",
       "      <td>0.0049</td>\n",
       "      <td>0.0052</td>\n",
       "      <td>0.0044</td>\n",
       "      <td>R</td>\n",
       "    </tr>\n",
       "    <tr>\n",
       "      <th>1</th>\n",
       "      <td>0.0262</td>\n",
       "      <td>0.0582</td>\n",
       "      <td>0.1099</td>\n",
       "      <td>0.1083</td>\n",
       "      <td>0.0974</td>\n",
       "      <td>0.2280</td>\n",
       "      <td>0.2431</td>\n",
       "      <td>0.3771</td>\n",
       "      <td>0.5598</td>\n",
       "      <td>0.6194</td>\n",
       "      <td>...</td>\n",
       "      <td>0.0232</td>\n",
       "      <td>0.0166</td>\n",
       "      <td>0.0095</td>\n",
       "      <td>0.0180</td>\n",
       "      <td>0.0244</td>\n",
       "      <td>0.0316</td>\n",
       "      <td>0.0164</td>\n",
       "      <td>0.0095</td>\n",
       "      <td>0.0078</td>\n",
       "      <td>R</td>\n",
       "    </tr>\n",
       "    <tr>\n",
       "      <th>2</th>\n",
       "      <td>0.0100</td>\n",
       "      <td>0.0171</td>\n",
       "      <td>0.0623</td>\n",
       "      <td>0.0205</td>\n",
       "      <td>0.0205</td>\n",
       "      <td>0.0368</td>\n",
       "      <td>0.1098</td>\n",
       "      <td>0.1276</td>\n",
       "      <td>0.0598</td>\n",
       "      <td>0.1264</td>\n",
       "      <td>...</td>\n",
       "      <td>0.0121</td>\n",
       "      <td>0.0036</td>\n",
       "      <td>0.0150</td>\n",
       "      <td>0.0085</td>\n",
       "      <td>0.0073</td>\n",
       "      <td>0.0050</td>\n",
       "      <td>0.0044</td>\n",
       "      <td>0.0040</td>\n",
       "      <td>0.0117</td>\n",
       "      <td>R</td>\n",
       "    </tr>\n",
       "    <tr>\n",
       "      <th>3</th>\n",
       "      <td>0.0762</td>\n",
       "      <td>0.0666</td>\n",
       "      <td>0.0481</td>\n",
       "      <td>0.0394</td>\n",
       "      <td>0.0590</td>\n",
       "      <td>0.0649</td>\n",
       "      <td>0.1209</td>\n",
       "      <td>0.2467</td>\n",
       "      <td>0.3564</td>\n",
       "      <td>0.4459</td>\n",
       "      <td>...</td>\n",
       "      <td>0.0031</td>\n",
       "      <td>0.0054</td>\n",
       "      <td>0.0105</td>\n",
       "      <td>0.0110</td>\n",
       "      <td>0.0015</td>\n",
       "      <td>0.0072</td>\n",
       "      <td>0.0048</td>\n",
       "      <td>0.0107</td>\n",
       "      <td>0.0094</td>\n",
       "      <td>R</td>\n",
       "    </tr>\n",
       "    <tr>\n",
       "      <th>4</th>\n",
       "      <td>0.0286</td>\n",
       "      <td>0.0453</td>\n",
       "      <td>0.0277</td>\n",
       "      <td>0.0174</td>\n",
       "      <td>0.0384</td>\n",
       "      <td>0.0990</td>\n",
       "      <td>0.1201</td>\n",
       "      <td>0.1833</td>\n",
       "      <td>0.2105</td>\n",
       "      <td>0.3039</td>\n",
       "      <td>...</td>\n",
       "      <td>0.0045</td>\n",
       "      <td>0.0014</td>\n",
       "      <td>0.0038</td>\n",
       "      <td>0.0013</td>\n",
       "      <td>0.0089</td>\n",
       "      <td>0.0057</td>\n",
       "      <td>0.0027</td>\n",
       "      <td>0.0051</td>\n",
       "      <td>0.0062</td>\n",
       "      <td>R</td>\n",
       "    </tr>\n",
       "  </tbody>\n",
       "</table>\n",
       "<p>5 rows × 61 columns</p>\n",
       "</div>"
      ],
      "text/plain": [
       "       0       1       2       3       4       5       6       7       8   \\\n",
       "0  0.0453  0.0523  0.0843  0.0689  0.1183  0.2583  0.2156  0.3481  0.3337   \n",
       "1  0.0262  0.0582  0.1099  0.1083  0.0974  0.2280  0.2431  0.3771  0.5598   \n",
       "2  0.0100  0.0171  0.0623  0.0205  0.0205  0.0368  0.1098  0.1276  0.0598   \n",
       "3  0.0762  0.0666  0.0481  0.0394  0.0590  0.0649  0.1209  0.2467  0.3564   \n",
       "4  0.0286  0.0453  0.0277  0.0174  0.0384  0.0990  0.1201  0.1833  0.2105   \n",
       "\n",
       "       9   ...      51      52      53      54      55      56      57  \\\n",
       "0  0.2872  ...  0.0084  0.0089  0.0048  0.0094  0.0191  0.0140  0.0049   \n",
       "1  0.6194  ...  0.0232  0.0166  0.0095  0.0180  0.0244  0.0316  0.0164   \n",
       "2  0.1264  ...  0.0121  0.0036  0.0150  0.0085  0.0073  0.0050  0.0044   \n",
       "3  0.4459  ...  0.0031  0.0054  0.0105  0.0110  0.0015  0.0072  0.0048   \n",
       "4  0.3039  ...  0.0045  0.0014  0.0038  0.0013  0.0089  0.0057  0.0027   \n",
       "\n",
       "       58      59  60  \n",
       "0  0.0052  0.0044   R  \n",
       "1  0.0095  0.0078   R  \n",
       "2  0.0040  0.0117   R  \n",
       "3  0.0107  0.0094   R  \n",
       "4  0.0051  0.0062   R  \n",
       "\n",
       "[5 rows x 61 columns]"
      ]
     },
     "execution_count": 3,
     "metadata": {},
     "output_type": "execute_result"
    }
   ],
   "source": [
    "df.head()"
   ]
  },
  {
   "cell_type": "code",
   "execution_count": 4,
   "metadata": {},
   "outputs": [],
   "source": [
    "x = df.iloc[:, :60]\n",
    "y = df.iloc[:, 60]"
   ]
  },
  {
   "cell_type": "code",
   "execution_count": 5,
   "metadata": {},
   "outputs": [],
   "source": [
    "from sklearn.preprocessing import LabelEncoder, StandardScaler\n",
    "lab = LabelEncoder()\n",
    "y = lab.fit_transform(y)\n",
    "\n",
    "std = StandardScaler()\n",
    "x = std.fit_transform(x)"
   ]
  },
  {
   "cell_type": "code",
   "execution_count": 6,
   "metadata": {},
   "outputs": [],
   "source": [
    "from sklearn.model_selection import train_test_split as tts\n",
    "\n",
    "xtrain, xtest, ytrain, ytest = tts(x, y, test_size = 0.3)"
   ]
  },
  {
   "cell_type": "code",
   "execution_count": 53,
   "metadata": {},
   "outputs": [],
   "source": [
    "model = Sequential()\n",
    "\n",
    "model.add(Dense(300, input_dim = 60, activation = 'relu'))\n",
    "model.add(Dropout(.6))\n",
    "model.add(Dense(300, activation = 'relu'))\n",
    "model.add(Dropout(.6))\n",
    "model.add(Dense(1, activation = 'sigmoid'))\n",
    "\n",
    "model.compile(loss= 'mae', optimizer= 'adam' , metrics=['accuracy'])"
   ]
  },
  {
   "cell_type": "code",
   "execution_count": 54,
   "metadata": {},
   "outputs": [
    {
     "name": "stdout",
     "output_type": "stream",
     "text": [
      "Epoch 1/50\n",
      "15/15 [==============================] - 0s 3ms/step - loss: 0.4628 - accuracy: 0.5486\n",
      "Epoch 2/50\n",
      "15/15 [==============================] - 0s 3ms/step - loss: 0.3397 - accuracy: 0.7500\n",
      "Epoch 3/50\n",
      "15/15 [==============================] - 0s 3ms/step - loss: 0.2826 - accuracy: 0.7708\n",
      "Epoch 4/50\n",
      "15/15 [==============================] - 0s 3ms/step - loss: 0.2310 - accuracy: 0.8472\n",
      "Epoch 5/50\n",
      "15/15 [==============================] - 0s 3ms/step - loss: 0.2084 - accuracy: 0.8125\n",
      "Epoch 6/50\n",
      "15/15 [==============================] - 0s 3ms/step - loss: 0.1833 - accuracy: 0.8611\n",
      "Epoch 7/50\n",
      "15/15 [==============================] - 0s 3ms/step - loss: 0.1448 - accuracy: 0.8889\n",
      "Epoch 8/50\n",
      "15/15 [==============================] - 0s 3ms/step - loss: 0.1344 - accuracy: 0.8958\n",
      "Epoch 9/50\n",
      "15/15 [==============================] - 0s 3ms/step - loss: 0.1082 - accuracy: 0.9306\n",
      "Epoch 10/50\n",
      "15/15 [==============================] - 0s 3ms/step - loss: 0.1030 - accuracy: 0.9236\n",
      "Epoch 11/50\n",
      "15/15 [==============================] - 0s 3ms/step - loss: 0.1039 - accuracy: 0.9306\n",
      "Epoch 12/50\n",
      "15/15 [==============================] - 0s 3ms/step - loss: 0.0971 - accuracy: 0.9236\n",
      "Epoch 13/50\n",
      "15/15 [==============================] - 0s 3ms/step - loss: 0.1012 - accuracy: 0.9167\n",
      "Epoch 14/50\n",
      "15/15 [==============================] - 0s 3ms/step - loss: 0.0815 - accuracy: 0.9375\n",
      "Epoch 15/50\n",
      "15/15 [==============================] - 0s 3ms/step - loss: 0.0582 - accuracy: 0.9653\n",
      "Epoch 16/50\n",
      "15/15 [==============================] - 0s 3ms/step - loss: 0.0812 - accuracy: 0.9444\n",
      "Epoch 17/50\n",
      "15/15 [==============================] - 0s 3ms/step - loss: 0.0584 - accuracy: 0.9583\n",
      "Epoch 18/50\n",
      "15/15 [==============================] - 0s 3ms/step - loss: 0.0481 - accuracy: 0.9653\n",
      "Epoch 19/50\n",
      "15/15 [==============================] - 0s 3ms/step - loss: 0.0448 - accuracy: 0.9653\n",
      "Epoch 20/50\n",
      "15/15 [==============================] - 0s 3ms/step - loss: 0.0395 - accuracy: 0.9792\n",
      "Epoch 21/50\n",
      "15/15 [==============================] - 0s 3ms/step - loss: 0.0314 - accuracy: 0.9792\n",
      "Epoch 22/50\n",
      "15/15 [==============================] - 0s 3ms/step - loss: 0.0319 - accuracy: 0.9722\n",
      "Epoch 23/50\n",
      "15/15 [==============================] - 0s 3ms/step - loss: 0.0347 - accuracy: 0.9722\n",
      "Epoch 24/50\n",
      "15/15 [==============================] - 0s 3ms/step - loss: 0.0257 - accuracy: 0.9931\n",
      "Epoch 25/50\n",
      "15/15 [==============================] - 0s 3ms/step - loss: 0.0291 - accuracy: 0.9861\n",
      "Epoch 26/50\n",
      "15/15 [==============================] - 0s 3ms/step - loss: 0.0154 - accuracy: 0.9861\n",
      "Epoch 27/50\n",
      "15/15 [==============================] - 0s 3ms/step - loss: 0.0250 - accuracy: 0.9861\n",
      "Epoch 28/50\n",
      "15/15 [==============================] - 0s 3ms/step - loss: 0.0411 - accuracy: 0.9653\n",
      "Epoch 29/50\n",
      "15/15 [==============================] - 0s 2ms/step - loss: 0.0238 - accuracy: 0.9792\n",
      "Epoch 30/50\n",
      "15/15 [==============================] - 0s 3ms/step - loss: 0.0270 - accuracy: 0.9861\n",
      "Epoch 31/50\n",
      "15/15 [==============================] - 0s 3ms/step - loss: 0.0184 - accuracy: 0.9792\n",
      "Epoch 32/50\n",
      "15/15 [==============================] - 0s 3ms/step - loss: 0.0203 - accuracy: 0.9792\n",
      "Epoch 33/50\n",
      "15/15 [==============================] - 0s 3ms/step - loss: 0.0141 - accuracy: 0.9931\n",
      "Epoch 34/50\n",
      "15/15 [==============================] - 0s 3ms/step - loss: 0.0398 - accuracy: 0.9653\n",
      "Epoch 35/50\n",
      "15/15 [==============================] - 0s 3ms/step - loss: 0.0254 - accuracy: 0.9722\n",
      "Epoch 36/50\n",
      "15/15 [==============================] - 0s 3ms/step - loss: 0.0193 - accuracy: 0.9792\n",
      "Epoch 37/50\n",
      "15/15 [==============================] - 0s 3ms/step - loss: 0.0119 - accuracy: 0.9931\n",
      "Epoch 38/50\n",
      "15/15 [==============================] - 0s 3ms/step - loss: 0.0258 - accuracy: 0.9722\n",
      "Epoch 39/50\n",
      "15/15 [==============================] - 0s 3ms/step - loss: 0.0252 - accuracy: 0.9792\n",
      "Epoch 40/50\n",
      "15/15 [==============================] - 0s 3ms/step - loss: 0.0045 - accuracy: 1.0000\n",
      "Epoch 41/50\n",
      "15/15 [==============================] - 0s 3ms/step - loss: 0.0074 - accuracy: 1.0000\n",
      "Epoch 42/50\n",
      "15/15 [==============================] - 0s 3ms/step - loss: 0.0151 - accuracy: 0.9861\n",
      "Epoch 43/50\n",
      "15/15 [==============================] - 0s 3ms/step - loss: 0.0046 - accuracy: 0.9931\n",
      "Epoch 44/50\n",
      "15/15 [==============================] - 0s 3ms/step - loss: 0.0106 - accuracy: 1.0000\n",
      "Epoch 45/50\n",
      "15/15 [==============================] - 0s 3ms/step - loss: 0.0118 - accuracy: 1.0000\n",
      "Epoch 46/50\n",
      "15/15 [==============================] - 0s 3ms/step - loss: 0.0049 - accuracy: 1.0000\n",
      "Epoch 47/50\n",
      "15/15 [==============================] - 0s 3ms/step - loss: 0.0035 - accuracy: 1.0000\n",
      "Epoch 48/50\n",
      "15/15 [==============================] - 0s 3ms/step - loss: 0.0061 - accuracy: 1.0000\n",
      "Epoch 49/50\n",
      "15/15 [==============================] - 0s 3ms/step - loss: 0.0040 - accuracy: 1.0000\n",
      "Epoch 50/50\n",
      "15/15 [==============================] - 0s 3ms/step - loss: 0.0236 - accuracy: 0.9792\n"
     ]
    },
    {
     "data": {
      "text/plain": [
       "<tensorflow.python.keras.callbacks.History at 0x1f4e0880108>"
      ]
     },
     "execution_count": 54,
     "metadata": {},
     "output_type": "execute_result"
    }
   ],
   "source": [
    "model.fit(xtrain, ytrain, epochs = 50, batch_size = 10)\n"
   ]
  },
  {
   "cell_type": "code",
   "execution_count": 56,
   "metadata": {},
   "outputs": [
    {
     "name": "stdout",
     "output_type": "stream",
     "text": [
      "2/2 [==============================] - 0s 0s/step - loss: 0.1734 - accuracy: 0.8254\n"
     ]
    }
   ],
   "source": [
    "accuracy = model.evaluate(xtest, ytest)"
   ]
  },
  {
   "cell_type": "code",
   "execution_count": 77,
   "metadata": {},
   "outputs": [
    {
     "name": "stdout",
     "output_type": "stream",
     "text": [
      "0.7619047619047619\n"
     ]
    }
   ],
   "source": [
    "from sklearn.metrics import accuracy_score as accsc\n",
    "from sklearn.svm import SVC\n",
    "svc = SVC(kernel = 'linear')\n",
    "\n",
    "svc.fit(xtrain, ytrain)\n",
    "ypredsvc = svc.predict(xtest)\n",
    "svcacc = accsc(ypredsvc, ytest)\n",
    "print(svcacc)"
   ]
  },
  {
   "cell_type": "code",
   "execution_count": 76,
   "metadata": {},
   "outputs": [
    {
     "data": {
      "text/plain": [
       "0.7619047619047619"
      ]
     },
     "execution_count": 76,
     "metadata": {},
     "output_type": "execute_result"
    }
   ],
   "source": [
    "from sklearn.tree import DecisionTreeClassifier\n",
    "\n",
    "dt = DecisionTreeClassifier()\n",
    "dt.fit(xtrain, ytrain)\n",
    "ypreddt = dt.predict(xtest)\n",
    "accsc(ypreddt, ytest)"
   ]
  },
  {
   "cell_type": "code",
   "execution_count": 75,
   "metadata": {},
   "outputs": [
    {
     "data": {
      "text/plain": [
       "0.7777777777777778"
      ]
     },
     "execution_count": 75,
     "metadata": {},
     "output_type": "execute_result"
    }
   ],
   "source": [
    "from sklearn.ensemble import RandomForestClassifier as Rfc\n",
    "\n",
    "rfc = Rfc()\n",
    "rfc.fit(xtrain, ytrain)\n",
    "accsc(rfc.predict(xtest), ytest)"
   ]
  },
  {
   "cell_type": "code",
   "execution_count": 89,
   "metadata": {},
   "outputs": [
    {
     "data": {
      "text/plain": [
       "0.8253968253968254"
      ]
     },
     "execution_count": 89,
     "metadata": {},
     "output_type": "execute_result"
    }
   ],
   "source": [
    "from sklearn.neighbors import KNeighborsClassifier as Knn\n",
    "\n",
    "knn = Knn(n_neighbors = 3)\n",
    "knn.fit(xtrain, ytrain)\n",
    "accsc(knn.predict(xtest), ytest)"
   ]
  },
  {
   "cell_type": "code",
   "execution_count": 95,
   "metadata": {},
   "outputs": [
    {
     "data": {
      "text/plain": [
       "0.7142857142857143"
      ]
     },
     "execution_count": 95,
     "metadata": {},
     "output_type": "execute_result"
    }
   ],
   "source": [
    "from sklearn.linear_model import LogisticRegression\n",
    "\n",
    "modell = LogisticRegression(solver = 'liblinear')\n",
    "modell.fit(xtrain, ytrain)\n",
    "accsc(modell.predict(xtest), ytest)"
   ]
  },
  {
   "cell_type": "code",
   "execution_count": 108,
   "metadata": {},
   "outputs": [
    {
     "data": {
      "text/plain": [
       "0.5714285714285714"
      ]
     },
     "execution_count": 108,
     "metadata": {},
     "output_type": "execute_result"
    }
   ],
   "source": [
    "# from sklearn.cluster import KMeans\n",
    "\n",
    "# kms = KMeans(n_clusters = 1, max_iter = 10, init='k-means++')\n",
    "# kms.fit(xtrain, ytrain)\n",
    "# accsc(kms.predict(xtest), ytest)\n"
   ]
  },
  {
   "cell_type": "code",
   "execution_count": null,
   "metadata": {},
   "outputs": [],
   "source": []
  }
 ],
 "metadata": {
  "kernelspec": {
   "display_name": "Python 3",
   "language": "python",
   "name": "python3"
  },
  "language_info": {
   "codemirror_mode": {
    "name": "ipython",
    "version": 3
   },
   "file_extension": ".py",
   "mimetype": "text/x-python",
   "name": "python",
   "nbconvert_exporter": "python",
   "pygments_lexer": "ipython3",
   "version": "3.7.6"
  }
 },
 "nbformat": 4,
 "nbformat_minor": 4
}
